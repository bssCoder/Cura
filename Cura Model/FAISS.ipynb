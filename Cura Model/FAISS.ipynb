{
 "cells": [
  {
   "cell_type": "code",
   "execution_count": 1,
   "id": "9493ad1b-4150-410b-a82b-edb2713f8252",
   "metadata": {},
   "outputs": [],
   "source": [
    "import os\n",
    "import json\n",
    "import torch\n",
    "import faiss\n",
    "import fitz  # PyMuPDF\n",
    "from sentence_transformers import SentenceTransformer\n",
    "from langchain.text_splitter import RecursiveCharacterTextSplitter"
   ]
  },
  {
   "cell_type": "code",
   "execution_count": 2,
   "id": "9f5b04a1-59a7-4aaa-a89b-198068f8eda2",
   "metadata": {},
   "outputs": [],
   "source": [
    "import torch"
   ]
  },
  {
   "cell_type": "code",
   "execution_count": 3,
   "id": "8c46c421-245d-40f7-8422-a9b20c52d800",
   "metadata": {},
   "outputs": [
    {
     "name": "stdout",
     "output_type": "stream",
     "text": [
      "Using device: cpu\n"
     ]
    }
   ],
   "source": [
    "device = torch.device(\"cuda\" if torch.cuda.is_available() else \"cpu\")\n",
    "print(f\"Using device: {device}\")"
   ]
  },
  {
   "cell_type": "code",
   "execution_count": 4,
   "id": "0876dc7b-4209-48a7-bdcf-2ece7b0b6708",
   "metadata": {},
   "outputs": [
    {
     "name": "stdout",
     "output_type": "stream",
     "text": [
      "✅ Using model: sentence-transformers/all-MiniLM-L6-v2 on device: cpu\n"
     ]
    }
   ],
   "source": [
    "model_name = \"sentence-transformers/all-MiniLM-L6-v2\"\n",
    "model = SentenceTransformer(model_name)\n",
    "device = torch.device(\"cuda\" if torch.cuda.is_available() else \"cpu\")\n",
    "model.to(device)\n",
    "print(f\"✅ Using model: {model_name} on device: {device}\")"
   ]
  },
  {
   "cell_type": "code",
   "execution_count": 5,
   "id": "d76245bc-2476-41da-baec-158d4a9dec22",
   "metadata": {},
   "outputs": [],
   "source": [
    "data_dir = \"data\""
   ]
  },
  {
   "cell_type": "code",
   "execution_count": 6,
   "id": "671757e2-d980-40e8-8c5d-da83b7ea6522",
   "metadata": {},
   "outputs": [
    {
     "name": "stdout",
     "output_type": "stream",
     "text": [
      "guideline-170-en.pdf\n",
      "Current Essentials of Medicine(1)(1).pdf\n",
      "LN_Pediatrics_final.pdf\n",
      "essentials-of-human-nutrition1.pdf\n",
      "disease-handbook-complete.pdf\n",
      "Gerontological Nursing.pdf\n",
      "FirstAid-manual.pdf\n",
      "Diagnostic and statistical manual of mental disorders _ DSM-5 ( PDFDrive.com ).pdf\n"
     ]
    }
   ],
   "source": [
    "if os.path.exists(data_dir):\n",
    "    for filename in os.listdir(data_dir):\n",
    "        print(filename)\n",
    "else:\n",
    "    print(f\"Directory '{data_dir}' does not exist.\")"
   ]
  },
  {
   "cell_type": "code",
   "execution_count": 7,
   "id": "51098cd6-8b50-41c4-8756-a7f76a90f050",
   "metadata": {},
   "outputs": [],
   "source": [
    "def read_pdfs(directory):\n",
    "    documents = []\n",
    "    for filename in os.listdir(directory):\n",
    "        if filename.endswith(\".pdf\"):\n",
    "            path = os.path.join(directory, filename)\n",
    "            doc = fitz.open(path)\n",
    "            text = [doc[i].get_text() for i in range(doc.page_count)]\n",
    "            documents.append({\"source\": filename, \"text\": text})\n",
    "            doc.close()\n",
    "    return documents"
   ]
  },
  {
   "cell_type": "code",
   "execution_count": 8,
   "id": "5f893c85-3470-4e62-b0b9-dc61685fc260",
   "metadata": {},
   "outputs": [],
   "source": [
    "documents = read_pdfs(data_dir)"
   ]
  },
  {
   "cell_type": "code",
   "execution_count": 9,
   "id": "abd07fb2-58d6-4b08-ba27-79fd395aaa34",
   "metadata": {},
   "outputs": [],
   "source": [
    "text_splitter = RecursiveCharacterTextSplitter(\n",
    "    chunk_size=1000,\n",
    "    chunk_overlap=100,\n",
    "    length_function=len,\n",
    "    is_separator_regex=False\n",
    ")"
   ]
  },
  {
   "cell_type": "code",
   "execution_count": 10,
   "id": "76499441-2da3-4f4d-a9bf-ac356b6bbfd6",
   "metadata": {},
   "outputs": [],
   "source": [
    "all_chunks = []\n",
    "metadata = []"
   ]
  },
  {
   "cell_type": "code",
   "execution_count": 11,
   "id": "f0f336cc-f660-4521-b8f3-2219aa0b9b8d",
   "metadata": {},
   "outputs": [
    {
     "name": "stdout",
     "output_type": "stream",
     "text": [
      "📊 Total chunks: 12717\n"
     ]
    }
   ],
   "source": [
    "for doc in documents:\n",
    "    source = doc[\"source\"]\n",
    "    for page_num, page_text in enumerate(doc[\"text\"]):\n",
    "        chunks = text_splitter.split_text(page_text)\n",
    "        for chunk_index, chunk in enumerate(chunks):\n",
    "            all_chunks.append(chunk)\n",
    "            metadata.append({\n",
    "                \"pdf_name\": source,\n",
    "                \"pdf_page\": page_num,\n",
    "                \"chunk_index\": chunk_index\n",
    "            })\n",
    "\n",
    "print(f\"📊 Total chunks: {len(all_chunks)}\")"
   ]
  },
  {
   "cell_type": "code",
   "execution_count": 12,
   "id": "03bcf1b1-0494-4442-aaa0-81419bb18f65",
   "metadata": {},
   "outputs": [
    {
     "name": "stdout",
     "output_type": "stream",
     "text": [
      "📐 Embedding dimension: 384\n"
     ]
    }
   ],
   "source": [
    "embedding_dim = model.get_sentence_embedding_dimension()\n",
    "print(f\"📐 Embedding dimension: {embedding_dim}\")"
   ]
  },
  {
   "cell_type": "code",
   "execution_count": 13,
   "id": "3db28076-5d96-4a49-8021-8487cc812c14",
   "metadata": {},
   "outputs": [],
   "source": [
    "index = faiss.IndexFlatL2(embedding_dim)"
   ]
  },
  {
   "cell_type": "code",
   "execution_count": 14,
   "id": "e1840871-fa9e-4970-b2ea-e51cf460cba6",
   "metadata": {},
   "outputs": [
    {
     "name": "stdout",
     "output_type": "stream",
     "text": [
      "✅ Processed 12717 / 12717 chunks\r"
     ]
    }
   ],
   "source": [
    "batch_size = 32\n",
    "for i in range(0, len(all_chunks), batch_size):\n",
    "    batch = all_chunks[i:i+batch_size]\n",
    "    embeddings = model.encode(batch, convert_to_numpy=True, device=device)\n",
    "    index.add(embeddings)\n",
    "    print(f\"✅ Processed {i + len(batch)} / {len(all_chunks)} chunks\", end=\"\\r\")"
   ]
  },
  {
   "cell_type": "code",
   "execution_count": 15,
   "id": "e91febbf-1396-43f1-bc53-32d1c94f2077",
   "metadata": {},
   "outputs": [],
   "source": [
    "faiss.write_index(index, \"vector_index.faiss\")"
   ]
  },
  {
   "cell_type": "code",
   "execution_count": 16,
   "id": "eecc0189-d3e8-43ab-9dcd-ea2e12e61389",
   "metadata": {},
   "outputs": [
    {
     "name": "stdout",
     "output_type": "stream",
     "text": [
      "\n",
      "Vector database creation complete.\n"
     ]
    }
   ],
   "source": [
    "with open(\"metadata.json\", \"w\") as f:\n",
    "    json.dump(metadata, f)\n",
    "\n",
    "print(\"\\nVector database creation complete.\")"
   ]
  }
 ],
 "metadata": {
  "kernelspec": {
   "display_name": "Python 3 (ipykernel)",
   "language": "python",
   "name": "python3"
  },
  "language_info": {
   "codemirror_mode": {
    "name": "ipython",
    "version": 3
   },
   "file_extension": ".py",
   "mimetype": "text/x-python",
   "name": "python",
   "nbconvert_exporter": "python",
   "pygments_lexer": "ipython3",
   "version": "3.12.4"
  }
 },
 "nbformat": 4,
 "nbformat_minor": 5
}
